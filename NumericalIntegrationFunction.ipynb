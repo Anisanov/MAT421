{
 "cells": [
  {
   "cell_type": "markdown",
   "metadata": {},
   "source": [
    "# Numerical Integration Function"
   ]
  },
  {
   "cell_type": "code",
   "execution_count": 1,
   "metadata": {},
   "outputs": [],
   "source": [
    "# Imports\n",
    "import numpy as np\n",
    "\n",
    "def my_int_calc(f, a, b, N, option):\n",
    "\n",
    "    # Calculation for Reimann Integral\n",
    "    if option == \"rect\":\n",
    "        h = (b - a) / (N - 1)\n",
    "        x = np.linspace(a, b, N)\n",
    "        I_riemannR = h * sum(f[1::])\n",
    "        print(\"Rectangular Approximation: \", I_riemannR)\n",
    "\n",
    "    # Calculation for Trapezoidal Rule\n",
    "    if option == \"trap\":\n",
    "        h = (b - a) / (N - 1)\n",
    "        x = np.linspace(a, b, N)\n",
    "        I_trap = (h/2)*(f[0] + 2 * sum(f[1:N-1]) + f[N-1])\n",
    "        print(\"Trapezoidal Approximation: \", I_trap)\n",
    "\n",
    "    # Calculation for Simpson's Rule\n",
    "    if option == \"simp\":\n",
    "        h = (b - a) / (N - 1)\n",
    "        x = np.linspace(a, b, N)\n",
    "        f = np.sin(x)\n",
    "        I_simp = (h/3) * (f[0] + 2*sum(f[:N-2:2]) + 4*sum(f[1:N-1:2]) + f[N-1])\n",
    "        print(\"Simpson's Rule Approximation: \", I_simp)"
   ]
  },
  {
   "cell_type": "markdown",
   "metadata": {},
   "source": [
    "Below, this function is executed to approximate $ \\int_0^{\\pi}  sin(x)dx $ using rectangular, trapezoidal and Simpson's rule techniques. Analytically this integral equals exactly 2."
   ]
  },
  {
   "cell_type": "code",
   "execution_count": 2,
   "metadata": {},
   "outputs": [
    {
     "name": "stdout",
     "output_type": "stream",
     "text": [
      "Rectangular Approximation:  1.8961188979370398\n",
      "Trapezoidal Approximation:  1.8961188979370398\n",
      "Simpson's Rule Approximation:  2.0045597549844207\n"
     ]
    }
   ],
   "source": [
    "# Defining function input and output\n",
    "x = np.linspace(0, np.pi, 5)\n",
    "f = np.sin(x)\n",
    "\n",
    "# Executing function for rectangular approximation\n",
    "my_int_calc(f, 0, np.pi, 5, \"rect\")\n",
    "\n",
    "# Executing function for trapezoidal approximation\n",
    "my_int_calc(f, 0, np.pi, 5, \"trap\")\n",
    "\n",
    "# Executing function for Simpson's Rule approximation\n",
    "my_int_calc(f, 0, np.pi, 5, \"simp\")"
   ]
  }
 ],
 "metadata": {
  "interpreter": {
   "hash": "c6c02107492efe85c465cb55724e14bd891593b86c89aced626fd8bbfc6096b3"
  },
  "kernelspec": {
   "display_name": "Python 3.9.7 ('base')",
   "language": "python",
   "name": "python3"
  },
  "language_info": {
   "codemirror_mode": {
    "name": "ipython",
    "version": 3
   },
   "file_extension": ".py",
   "mimetype": "text/x-python",
   "name": "python",
   "nbconvert_exporter": "python",
   "pygments_lexer": "ipython3",
   "version": "3.9.7"
  },
  "orig_nbformat": 4
 },
 "nbformat": 4,
 "nbformat_minor": 2
}
