{
 "cells": [
  {
   "cell_type": "markdown",
   "metadata": {},
   "source": [
    "# Numerical Integration"
   ]
  },
  {
   "cell_type": "markdown",
   "metadata": {},
   "source": [
    "Finding an integral for a function f is finding the area under curve f. This is also called the anti-derivative. There are many ways to approximate an integral over an interval [a,b]. The different techniques are as follows:\n",
    "    1. Riemann Integral\n",
    "    2. Trapezoidal Rule\n",
    "    3. Simpson's Rule"
   ]
  },
  {
   "cell_type": "markdown",
   "metadata": {},
   "source": [
    "## Riemann Sum Approximation"
   ]
  },
  {
   "cell_type": "markdown",
   "metadata": {},
   "source": [
    "The first example is an approximation of  $ \\int_0^{\\pi/2}  cos(x)dx $ using a Riemann Sum Approximation. Analytically, this integral equals 1. This approximation will compare right, left and midpoint Riemann Integrals. This is done by finding the sum of n rectangles under the curve."
   ]
  },
  {
   "cell_type": "code",
   "execution_count": 1,
   "metadata": {},
   "outputs": [],
   "source": [
    "# Imports\n",
    "import numpy as np\n",
    "\n",
    "\n",
    "# Declaring Reimann Integral Function\n",
    "def ReimannIntegral(n):\n",
    "\n",
    "    # Integral Interval\n",
    "    a = 0\n",
    "    b = np.pi / 2\n",
    "\n",
    "    # Calculating Function\n",
    "    h = (b - a) / (n - 1)\n",
    "    x = np.linspace(a, b, n)\n",
    "    f = np.cos(x)\n",
    "\n",
    "    # Calculating Integral Approximations\n",
    "    LeftRiemann = h * sum(f[:n-1])\n",
    "    RightRiemann = h * sum(f[1::])\n",
    "    MidRiemann = h * sum(np.cos((x[:n-1] + x[1:])/2))\n",
    "\n",
    "    # Calculating Error\n",
    "    LeftRiemannError = 1 - LeftRiemann\n",
    "    RightRiemannError = 1 - RightRiemann\n",
    "    MidRiemannError = 1 - MidRiemann\n",
    "\n",
    "    # Displaying Output\n",
    "    print(\"n = \", n)\n",
    "    print(\"Left Riemann Integral: \", LeftRiemann)\n",
    "    print(\"Error: \", abs(LeftRiemannError))\n",
    "    print(\"Right Riemann Integral: \", RightRiemann)\n",
    "    print(\"Error: \", abs(RightRiemannError))\n",
    "    print(\"Midpoint Riemann Integral: \", MidRiemann)\n",
    "    print(\"Error: \", abs(MidRiemannError), \"\\n\")\n"
   ]
  },
  {
   "cell_type": "markdown",
   "metadata": {},
   "source": [
    "As can seen below, as the number of evenly spaced rectangles, n, added up in the Riemann Integral increases, the error decreases."
   ]
  },
  {
   "cell_type": "code",
   "execution_count": 2,
   "metadata": {},
   "outputs": [
    {
     "name": "stdout",
     "output_type": "stream",
     "text": [
      "n =  5\n",
      "Left Riemann Integral:  1.1834653418221377\n",
      "Error:  0.1834653418221377\n",
      "Right Riemann Integral:  0.7907662601234134\n",
      "Error:  0.20923373987658656\n",
      "Midpoint Riemann Integral:  1.006454542799564\n",
      "Error:  0.006454542799563923 \n",
      "\n"
     ]
    }
   ],
   "source": [
    "# Riemann Integral when n = 5\n",
    "ReimannIntegral(5)"
   ]
  },
  {
   "cell_type": "code",
   "execution_count": 3,
   "metadata": {},
   "outputs": [
    {
     "name": "stdout",
     "output_type": "stream",
     "text": [
      "n =  10\n",
      "Left Riemann Integral:  1.0847266943914424\n",
      "Error:  0.08472669439144243\n",
      "Right Riemann Integral:  0.9101937691920094\n",
      "Error:  0.08980623080799055\n",
      "Midpoint Riemann Integral:  1.00127036783312\n",
      "Error:  0.0012703678331200674 \n",
      "\n"
     ]
    }
   ],
   "source": [
    "# Riemann Integral when n = 10\n",
    "ReimannIntegral(10)"
   ]
  },
  {
   "cell_type": "code",
   "execution_count": 4,
   "metadata": {},
   "outputs": [
    {
     "name": "stdout",
     "output_type": "stream",
     "text": [
      "n =  25\n",
      "Left Riemann Integral:  1.0323679244474602\n",
      "Error:  0.03236792444746017\n",
      "Right Riemann Integral:  0.9669180774976728\n",
      "Error:  0.03308192250232722\n",
      "Midpoint Riemann Integral:  1.0001785090721933\n",
      "Error:  0.00017850907219330026 \n",
      "\n"
     ]
    }
   ],
   "source": [
    "# Riemann Integral when n = 25\n",
    "ReimannIntegral(25)"
   ]
  },
  {
   "cell_type": "code",
   "execution_count": 5,
   "metadata": {},
   "outputs": [
    {
     "name": "stdout",
     "output_type": "stream",
     "text": [
      "n =  100\n",
      "Left Riemann Integral:  1.0079123355326245\n",
      "Error:  0.007912335532624493\n",
      "Right Riemann Integral:  0.9920457059690396\n",
      "Error:  0.007954294030960374\n",
      "Midpoint Riemann Integral:  1.000010489657594\n",
      "Error:  1.0489657594092705e-05 \n",
      "\n"
     ]
    }
   ],
   "source": [
    "# Riemann Integral when n = 100\n",
    "ReimannIntegral(100)"
   ]
  },
  {
   "cell_type": "markdown",
   "metadata": {},
   "source": [
    "## Trapezoidal Rule"
   ]
  },
  {
   "cell_type": "markdown",
   "metadata": {},
   "source": [
    "The Trapazoidal rule is very similar to a Riemann Sum in which areas under a curve are added up. However, instead of summing up rectangles, a more accurate approximation may be conducted by instead using trapezoids. Below, $ \\int_0^{\\pi/2}  cos(x)dx $ is approximated using this technique."
   ]
  },
  {
   "cell_type": "code",
   "execution_count": 6,
   "metadata": {},
   "outputs": [],
   "source": [
    "# Declaring Trapezoidal Function\n",
    "def TrapezoidalIntegral(n):\n",
    "\n",
    "    # Integral Interval\n",
    "    a = 0\n",
    "    b = np.pi / 2\n",
    "\n",
    "    # Calculating Function\n",
    "    h = (b - a) / (n - 1)\n",
    "    x = np.linspace(a, b, n)\n",
    "    f = np.cos(x)\n",
    "\n",
    "    # Calculating Integral Approximations\n",
    "    TrapezoidalSum = (h/2)*(f[0] + 2 * sum(f[1:n-1]) + f[n-1])\n",
    "\n",
    "    # Calculating Error\n",
    "    TrapezoidalError = 1 - TrapezoidalSum\n",
    "\n",
    "    # Displaying Output\n",
    "    print(\"n = \", n)\n",
    "    print(\"Trapezoidal Approximation: \", TrapezoidalSum)\n",
    "    print(\"Error: \", abs(TrapezoidalError))"
   ]
  },
  {
   "cell_type": "markdown",
   "metadata": {},
   "source": [
    "As can seen below, as the number of evenly spaced trapezoids, n, added up in the Trapezoidal Rule increases, the error decreases."
   ]
  },
  {
   "cell_type": "code",
   "execution_count": 7,
   "metadata": {},
   "outputs": [
    {
     "name": "stdout",
     "output_type": "stream",
     "text": [
      "n =  5\n",
      "Trapezoidal Approximation:  0.9871158009727755\n",
      "Error:  0.012884199027224486\n"
     ]
    }
   ],
   "source": [
    "# Trapezoidal Integral when n = 5\n",
    "TrapezoidalIntegral(5)"
   ]
  },
  {
   "cell_type": "code",
   "execution_count": 8,
   "metadata": {},
   "outputs": [
    {
     "name": "stdout",
     "output_type": "stream",
     "text": [
      "n =  10\n",
      "Trapezoidal Approximation:  0.9974602317917259\n",
      "Error:  0.0025397682082740625\n"
     ]
    }
   ],
   "source": [
    "# Trapezoidal Integral when n = 10\n",
    "TrapezoidalIntegral(10)"
   ]
  },
  {
   "cell_type": "code",
   "execution_count": 9,
   "metadata": {},
   "outputs": [
    {
     "name": "stdout",
     "output_type": "stream",
     "text": [
      "n =  25\n",
      "Trapezoidal Approximation:  0.9996430009725664\n",
      "Error:  0.0003569990274335799\n"
     ]
    }
   ],
   "source": [
    "# Trapezoidal Integral when n = 25\n",
    "TrapezoidalIntegral(25)"
   ]
  },
  {
   "cell_type": "code",
   "execution_count": 10,
   "metadata": {},
   "outputs": [
    {
     "name": "stdout",
     "output_type": "stream",
     "text": [
      "n =  100\n",
      "Trapezoidal Approximation:  0.999979020750832\n",
      "Error:  2.0979249167996095e-05\n"
     ]
    }
   ],
   "source": [
    "# Trapezoidal Integral when n = 100\n",
    "TrapezoidalIntegral(100)"
   ]
  },
  {
   "cell_type": "markdown",
   "metadata": {},
   "source": [
    "## Simpson's Rule"
   ]
  },
  {
   "cell_type": "markdown",
   "metadata": {},
   "source": [
    "Simpson's Rule is yet another method that provides a strong approximation for integration. Simpson's Rule approximates an area under a curve by breaking the integral interval [a,b] into n sub intervals. A quadratic function is fitted to each subinterval and integrated exactly. Below, $ \\int_0^{\\pi/2}  cos(x)dx $ is approximated using this technique."
   ]
  },
  {
   "cell_type": "code",
   "execution_count": 11,
   "metadata": {},
   "outputs": [],
   "source": [
    "# Declaring Simpson's Rule Function\n",
    "def SimpsonsRule(n):\n",
    "    \n",
    "    # Integral Interval\n",
    "    a = 0\n",
    "    b = np.pi / 2\n",
    "\n",
    "    # Calculating Function\n",
    "    h = (b - a) / (n - 1)\n",
    "    x = np.linspace(a, b, n)\n",
    "    f = np.cos(x)\n",
    "\n",
    "    # Calculating Integral Approximations\n",
    "    SimpsonsIntegral = (h/3) * (f[0] + 2*sum(f[:n-2:2]) + 4*sum(f[1:n-1:2]) + f[n-1])\n",
    "\n",
    "    # Calculating Error\n",
    "    SimpsonsIntegralError = 1 - SimpsonsIntegral\n",
    "\n",
    "    # Displaying Output\n",
    "    print(\"n = \", n)\n",
    "    print(\"Simpson's Rule Approximation: \", SimpsonsIntegral)\n",
    "    print(\"Error: \", abs(SimpsonsIntegralError))"
   ]
  },
  {
   "cell_type": "markdown",
   "metadata": {},
   "source": [
    "As can seen below, as the number of evenly spaced intervals, n, added up in the Simpson;s Rule increases, the error decreases."
   ]
  },
  {
   "cell_type": "code",
   "execution_count": 12,
   "metadata": {},
   "outputs": [
    {
     "name": "stdout",
     "output_type": "stream",
     "text": [
      "n =  5\n",
      "Simpson's Rule Approximation:  1.2619339727733434\n",
      "Error:  0.2619339727733434\n"
     ]
    }
   ],
   "source": [
    "# Simpson's Rule when n = 5\n",
    "SimpsonsRule(5)"
   ]
  },
  {
   "cell_type": "code",
   "execution_count": 13,
   "metadata": {},
   "outputs": [
    {
     "name": "stdout",
     "output_type": "stream",
     "text": [
      "n =  10\n",
      "Simpson's Rule Approximation:  1.0910656902610132\n",
      "Error:  0.09106569026101319\n"
     ]
    }
   ],
   "source": [
    "# Simpson's Rule when n = 10\n",
    "SimpsonsRule(10)"
   ]
  },
  {
   "cell_type": "code",
   "execution_count": 14,
   "metadata": {},
   "outputs": [
    {
     "name": "stdout",
     "output_type": "stream",
     "text": [
      "n =  25\n",
      "Simpson's Rule Approximation:  1.0436333332959553\n",
      "Error:  0.04363333329595531\n"
     ]
    }
   ],
   "source": [
    "# Simpson's Rule when n = 25\n",
    "SimpsonsRule(25)"
   ]
  },
  {
   "cell_type": "code",
   "execution_count": 15,
   "metadata": {},
   "outputs": [
    {
     "name": "stdout",
     "output_type": "stream",
     "text": [
      "n =  100\n",
      "Simpson's Rule Approximation:  1.0103679679447193\n",
      "Error:  0.01036796794471928\n"
     ]
    }
   ],
   "source": [
    "# Simpson's Rule when n = 100\n",
    "SimpsonsRule(100)"
   ]
  }
 ],
 "metadata": {
  "interpreter": {
   "hash": "c6c02107492efe85c465cb55724e14bd891593b86c89aced626fd8bbfc6096b3"
  },
  "kernelspec": {
   "display_name": "Python 3.9.7 ('base')",
   "language": "python",
   "name": "python3"
  },
  "language_info": {
   "name": "python",
   "version": "3.9.7"
  },
  "orig_nbformat": 4
 },
 "nbformat": 4,
 "nbformat_minor": 2
}
